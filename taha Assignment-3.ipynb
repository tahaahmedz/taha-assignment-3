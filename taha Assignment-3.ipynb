{
 "cells": [
  {
   "cell_type": "markdown",
   "metadata": {},
   "source": [
    "<h3>Q no 1:  Write a python program to find number of occurrences of given number in a list with out using built-in methods</h3>\n",
    "<h4>**1 generate a list of some random num which is repeated again and again</h4>\n",
    "<h4>**2 take user input any number</h4>\n",
    "<h4>**3 find the number of occurrences of that num in your list</h4>\n",
    "<h4>**4 print some message to user with that result</h4>"
   ]
  },
  {
   "cell_type": "code",
   "execution_count": 2,
   "metadata": {},
   "outputs": [
    {
     "name": "stdout",
     "output_type": "stream",
     "text": [
      "Here Is The Nmbers Present In The List\n",
      "[1, 2, 3, 4, 7, 8, 9, 0, 5, 6]\n",
      "input any number whose occurence you want to know: 9\n",
      "9 Is Present 4 Times In The List\n"
     ]
    }
   ],
   "source": [
    "new_list = [1,2,3,4,3,4,2,3,4,7,8,9,9,0,0,9,7,5,2,6,7,7,5,7,5,7,8,0,9]\n",
    "def ck_list(*args):\n",
    "    chk_list=[]\n",
    "    for i in new_list:\n",
    "        if i not in chk_list:\n",
    "            chk_list.append(i)\n",
    "    return chk_list\n",
    "key = int(input(f\"Here Is The Nmbers Present In The List\\n{ck_list(*new_list)}\\ninput any number whose occurence you want to know: \"))\n",
    "def fun(key,result=0,*args):\n",
    "    for i in args:\n",
    "        if i==key:\n",
    "           result+=1\n",
    "    return result\n",
    "if key in ck_list(*new_list):\n",
    "    print(f\"{key} Is Present {fun(key,0,*new_list)} Times In The List\")\n",
    "else:\n",
    "    print(\"You Give A Worng Input \")"
   ]
  },
  {
   "cell_type": "markdown",
   "metadata": {},
   "source": [
    "<h3>Q no 2:   [\"www.zframez.com\", \"www.wikipedia.org\", \"www.asp.net\", \"www.abcd.in\"]\n",
    "<br/><br/><br/><br/><br/>\n",
    "Write a python program to print website suffixes (com , org , net ,in) from this list\n",
    "\n",
    "Hint : Use split() method to perform this task\n",
    "</h3>\n"
   ]
  },
  {
   "cell_type": "code",
   "execution_count": 3,
   "metadata": {},
   "outputs": [
    {
     "name": "stdout",
     "output_type": "stream",
     "text": [
      "com\n",
      "org\n",
      "net\n",
      "in\n"
     ]
    }
   ],
   "source": [
    "web= [\"www.zframez.com\", \"www.wikipedia.org\", \"www.asp.net\", \"www.abcd.in\"] \n",
    "for i in web:\n",
    "    i=i.split(\".\")[2]\n",
    "    print(i)"
   ]
  },
  {
   "cell_type": "markdown",
   "metadata": {},
   "source": [
    "<h3> Q no 3 : Write a program which can compute the factorial of a given numbers.</h3>\n",
    "<br/>\n",
    "<br/>\n",
    "<h4>**1 first take user input any number</h4>\n",
    "<h4>**2 calculate factorial of that input and then print the result to user</h4>"
   ]
  },
  {
   "cell_type": "code",
   "execution_count": 5,
   "metadata": {},
   "outputs": [
    {
     "name": "stdout",
     "output_type": "stream",
     "text": [
      "Enter Factorial Number you want to find = 9\n",
      "The Factorial of given number is =  362880\n"
     ]
    }
   ],
   "source": [
    "User=int(input(\"Enter Factorial Number you want to find = \"))\n",
    "Factorial=1;\n",
    "for i in range(1,User+1,1):\n",
    "    Factorial=i*Factorial\n",
    "print(\"The Factorial of given number is = \",Factorial)"
   ]
  },
  {
   "cell_type": "markdown",
   "metadata": {},
   "source": [
    "<h3>Q 4 (a) :  If you could invite anyone, living or deceased, to dinner, who\n",
    "would you invite? Make a list that includes at least three people you’d like to\n",
    "invite to dinner. Then use your list to print a message to each person, inviting\n",
    "them to dinner.</h3>"
   ]
  },
  {
   "cell_type": "code",
   "execution_count": 9,
   "metadata": {},
   "outputs": [
    {
     "name": "stdout",
     "output_type": "stream",
     "text": [
      "Hello Mr.hammad, you are invited For Dinner On Saturday at1:00a.m\n",
      "Hello Mr.waqas, you are invited For Dinner On Saturday at1:00a.m\n",
      "Hello Mr.asadullah, you are invited For Dinner On Saturday at1:00a.m\n",
      "Hello Mr.noman, you are invited For Dinner On Saturday at1:00a.m\n"
     ]
    }
   ],
   "source": [
    "frnds = ['hammad','waqas','asadullah','noman']\n",
    "def frnd_list(*args):\n",
    "    for i in args:\n",
    "        print(f\"Hello Mr.{i}, you are invited For Dinner On Saturday at1:00a.m\")\n",
    "frnd_list(*frnds)"
   ]
  },
  {
   "cell_type": "markdown",
   "metadata": {},
   "source": [
    "<h3>Q 4 (b) : You just heard that one of your guests can’t make the\n",
    "dinner, so you need to send out a new set of invitations. You’ll have to think of\n",
    "someone else to invite.<br/></br><br/>\n",
    "•\t Start with your program from Q 4 (a). Add a print statement at the\n",
    "end of your program stating the name of the guest who can’t make it.<br/></br><br/>\n",
    "•\t Modify your list, replacing the name of the guest who can’t make it with\n",
    "the name of the new person you are inviting.<br/></br><br/>\n",
    "•\t Print a second set of invitation messages, one for each person who is still\n",
    "in your list.<br/></br><br/></h3>"
   ]
  },
  {
   "cell_type": "code",
   "execution_count": 13,
   "metadata": {},
   "outputs": [
    {
     "name": "stdout",
     "output_type": "stream",
     "text": [
      "waqas will not come to dinner with us\n",
      "hammad you are invited for dinner on saturday at1:am\n",
      "haris you are invited for dinner on saturday at1:am\n",
      "asadullah you are invited for dinner on saturday at1:am\n",
      "noman you are invited for dinner on saturday at1:am\n"
     ]
    }
   ],
   "source": [
    "Friends = [\"hammad\",\"waqas\",\"asadullah\",\"noman\"]\n",
    "print(Friends[1]+\" will not come to dinner with us\")\n",
    "Friends[1] = \"haris\"\n",
    "for i in range(0,len(Friends)):\n",
    "    print(Friends[i] + \" you are invited for dinner on saturday at1:am\")"
   ]
  },
  {
   "cell_type": "markdown",
   "metadata": {},
   "source": [
    "<h3>Q 4 (c) : You just found a bigger dinner table, so now more space is\n",
    "available. Think of three more guests to invite to dinner.<br/></br><br/>\n",
    "•\t Start with your program from Q 4 (a) and (b) Add a print\n",
    "statement to the end of your program informing people that you found a\n",
    "bigger dinner table.<br/></br><br/>\n",
    "•\t Use insert() to add one new guest to the beginning of your list.<br/></br><br/>\n",
    "•\t Use insert() to add one new guest to the middle of your list.<br/></br><br/>\n",
    "•\t Use append() to add one new guest to the end of your list.<br/></br><br/>\n",
    "•\t Print a new set of invitation messages, one for each person in your list.<br/></br><br/></h3>"
   ]
  },
  {
   "cell_type": "code",
   "execution_count": 17,
   "metadata": {},
   "outputs": [
    {
     "name": "stdout",
     "output_type": "stream",
     "text": [
      "I just found a bigger dinner table.\n",
      "Dear junaid you are invited for dinner on saturday at1:00\n",
      "Dear hammad you are invited for dinner on saturday at1:00\n",
      "Dear waqas you are invited for dinner on saturday at1:00\n",
      "Dear safeer you are invited for dinner on saturday at1:00\n",
      "Dear asasdullah you are invited for dinner on saturday at1:00\n",
      "Dear noman you are invited for dinner on saturday at1:00\n",
      "Dear faisal you are invited for dinner on saturday at1:00\n"
     ]
    }
   ],
   "source": [
    "Friends = [\"hammad\",\"waqas\",\"asasdullah\",\"noman\"]\n",
    "print(\"I just found a bigger dinner table.\")\n",
    "Friends.insert(0,\"junaid\")\n",
    "Friends.insert(3,\"safeer\")\n",
    "Friends.append(\"faisal\")\n",
    "for i in range(0,len(Friends)):\n",
    "    print(\"Dear \"+Friends[i] + \" you are invited for dinner on saturday at1:00\")"
   ]
  },
  {
   "cell_type": "markdown",
   "metadata": {},
   "source": [
    "<h5> Q 5 : Here you have some data in variable below, your task is to make a list of specific word Surah then print the list and length of list</h5>\n"
   ]
  },
  {
   "cell_type": "code",
   "execution_count": 19,
   "metadata": {},
   "outputs": [
    {
     "name": "stdout",
     "output_type": "stream",
     "text": [
      "['Surah', 'Surah']\n",
      "The length of list is  2\n"
     ]
    }
   ],
   "source": [
    "Sentence = str(\"There are 114 Surah in the Quran, divided into verses (ayat). Surah are of different length\")\n",
    "List1=Sentence.split(' ')\n",
    "List2=[]\n",
    "for i in List1:\n",
    "    if i==\"Surah\":\n",
    "        List2.append(i)\n",
    "print(List2)\n",
    "print(\"The length of list is \",len(List2))"
   ]
  },
  {
   "cell_type": "markdown",
   "metadata": {},
   "source": [
    " <h3>Q no 6 : You have some name of cities in list named cities, Your task is to check whether Karachi is present in this list or not, if present print the index where the value Karachi is present</h3>"
   ]
  },
  {
   "cell_type": "code",
   "execution_count": 20,
   "metadata": {},
   "outputs": [
    {
     "name": "stdout",
     "output_type": "stream",
     "text": [
      "'Karachi' is present is the list, and the index is 3\n"
     ]
    }
   ],
   "source": [
    "cities=[\"Multan\",\"Lahore\",\"Peshawar\",\"Karachi\",\"Hyderabad\",\"Quetta\"]\n",
    "for i in cities:\n",
    "    if i == \"Karachi\":\n",
    "        print(f\"'Karachi' is present is the list, and the index is {cities.index(i)}\")"
   ]
  }
 ],
 "metadata": {
  "kernelspec": {
   "display_name": "Python 3",
   "language": "python",
   "name": "python3"
  },
  "language_info": {
   "codemirror_mode": {
    "name": "ipython",
    "version": 3
   },
   "file_extension": ".py",
   "mimetype": "text/x-python",
   "name": "python",
   "nbconvert_exporter": "python",
   "pygments_lexer": "ipython3",
   "version": "3.7.3"
  }
 },
 "nbformat": 4,
 "nbformat_minor": 2
}
